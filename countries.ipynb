{
 "cells": [
  {
   "cell_type": "code",
   "execution_count": 4,
   "metadata": {},
   "outputs": [],
   "source": [
    "from pandasai import SmartDataframe\n",
    "from pandasai.llm.local_llm import LocalLLM\n",
    "import pandas as pd"
   ]
  },
  {
   "cell_type": "code",
   "execution_count": 6,
   "metadata": {},
   "outputs": [],
   "source": [
    "data = pd.DataFrame({\n",
    "    \"country\": [\n",
    "        \"United States\",\n",
    "        \"United Kingdom\",\n",
    "        \"France\",\n",
    "        \"Germany\",\n",
    "        \"Italy\",\n",
    "        \"Spain\",\n",
    "        \"Canada\",\n",
    "        \"Australia\",\n",
    "        \"Japan\",\n",
    "        \"China\",\n",
    "    ],\n",
    "    \"gdp\": [\n",
    "        19294482071552,\n",
    "        2891615567872,\n",
    "        2411255037952,\n",
    "        3435817336832,\n",
    "        1745433788416,\n",
    "        1181205135360,\n",
    "        1607402389504,\n",
    "        1490967855104,\n",
    "        4380756541440,\n",
    "        14631844184064,\n",
    "    ],\n",
    "    \"happiness_index\": [6.94, 7.16, 6.66, 7.07, 6.38, 6.4, 7.23, 7.22, 5.87, 5.12],\n",
    "})"
   ]
  },
  {
   "cell_type": "code",
   "execution_count": 5,
   "metadata": {},
   "outputs": [],
   "source": [
    "model = LocalLLM(\n",
    "    api_base='http://localhost:11434/v1',\n",
    "    model='llama3:8b'\n",
    ")"
   ]
  },
  {
   "cell_type": "code",
   "execution_count": 7,
   "metadata": {},
   "outputs": [],
   "source": [
    "sdf = SmartDataframe(data, config={'llm': model})"
   ]
  },
  {
   "cell_type": "code",
   "execution_count": 21,
   "metadata": {},
   "outputs": [
    {
     "name": "stdout",
     "output_type": "stream",
     "text": [
      "{'type': 'dataframe', 'value':           country  happiness_index\n",
      "6          Canada             7.23\n",
      "7       Australia             7.22\n",
      "1  United Kingdom             7.16\n",
      "3         Germany             7.07\n",
      "0   United States             6.94}\n"
     ]
    },
    {
     "data": {
      "text/html": [
       "<div>\n",
       "<style scoped>\n",
       "    .dataframe tbody tr th:only-of-type {\n",
       "        vertical-align: middle;\n",
       "    }\n",
       "\n",
       "    .dataframe tbody tr th {\n",
       "        vertical-align: top;\n",
       "    }\n",
       "\n",
       "    .dataframe thead th {\n",
       "        text-align: right;\n",
       "    }\n",
       "</style>\n",
       "<table border=\"1\" class=\"dataframe\">\n",
       "  <thead>\n",
       "    <tr style=\"text-align: right;\">\n",
       "      <th></th>\n",
       "      <th>country</th>\n",
       "      <th>happiness_index</th>\n",
       "    </tr>\n",
       "  </thead>\n",
       "  <tbody>\n",
       "    <tr>\n",
       "      <th>6</th>\n",
       "      <td>Canada</td>\n",
       "      <td>7.23</td>\n",
       "    </tr>\n",
       "    <tr>\n",
       "      <th>7</th>\n",
       "      <td>Australia</td>\n",
       "      <td>7.22</td>\n",
       "    </tr>\n",
       "    <tr>\n",
       "      <th>1</th>\n",
       "      <td>United Kingdom</td>\n",
       "      <td>7.16</td>\n",
       "    </tr>\n",
       "  </tbody>\n",
       "</table>\n",
       "</div>"
      ],
      "text/plain": [
       "          country  happiness_index\n",
       "6          Canada             7.23\n",
       "7       Australia             7.22\n",
       "1  United Kingdom             7.16"
      ]
     },
     "execution_count": 21,
     "metadata": {},
     "output_type": "execute_result"
    }
   ],
   "source": [
    "new_df = sdf.chat('what are the 5 happiest countries? return all columns as a new dataframe')\n",
    "new_df[:3]"
   ]
  },
  {
   "cell_type": "code",
   "execution_count": 8,
   "metadata": {},
   "outputs": [
    {
     "name": "stdout",
     "output_type": "stream",
     "text": [
      "{'type': 'dataframe', 'value':           country             gdp  happiness_index\n",
      "0   United States  19294482071552             6.94\n",
      "9           China  14631844184064             5.12\n",
      "8           Japan   4380756541440             5.87\n",
      "3         Germany   3435817336832             7.07\n",
      "1  United Kingdom   2891615567872             7.16}\n"
     ]
    },
    {
     "data": {
      "text/html": [
       "<div>\n",
       "<style scoped>\n",
       "    .dataframe tbody tr th:only-of-type {\n",
       "        vertical-align: middle;\n",
       "    }\n",
       "\n",
       "    .dataframe tbody tr th {\n",
       "        vertical-align: top;\n",
       "    }\n",
       "\n",
       "    .dataframe thead th {\n",
       "        text-align: right;\n",
       "    }\n",
       "</style>\n",
       "<table border=\"1\" class=\"dataframe\">\n",
       "  <thead>\n",
       "    <tr style=\"text-align: right;\">\n",
       "      <th></th>\n",
       "      <th>country</th>\n",
       "      <th>gdp</th>\n",
       "      <th>happiness_index</th>\n",
       "    </tr>\n",
       "  </thead>\n",
       "  <tbody>\n",
       "    <tr>\n",
       "      <th>0</th>\n",
       "      <td>United States</td>\n",
       "      <td>19294482071552</td>\n",
       "      <td>6.94</td>\n",
       "    </tr>\n",
       "    <tr>\n",
       "      <th>9</th>\n",
       "      <td>China</td>\n",
       "      <td>14631844184064</td>\n",
       "      <td>5.12</td>\n",
       "    </tr>\n",
       "    <tr>\n",
       "      <th>8</th>\n",
       "      <td>Japan</td>\n",
       "      <td>4380756541440</td>\n",
       "      <td>5.87</td>\n",
       "    </tr>\n",
       "    <tr>\n",
       "      <th>3</th>\n",
       "      <td>Germany</td>\n",
       "      <td>3435817336832</td>\n",
       "      <td>7.07</td>\n",
       "    </tr>\n",
       "    <tr>\n",
       "      <th>1</th>\n",
       "      <td>United Kingdom</td>\n",
       "      <td>2891615567872</td>\n",
       "      <td>7.16</td>\n",
       "    </tr>\n",
       "  </tbody>\n",
       "</table>\n",
       "</div>"
      ],
      "text/plain": [
       "          country             gdp  happiness_index\n",
       "0   United States  19294482071552             6.94\n",
       "9           China  14631844184064             5.12\n",
       "8           Japan   4380756541440             5.87\n",
       "3         Germany   3435817336832             7.07\n",
       "1  United Kingdom   2891615567872             7.16"
      ]
     },
     "execution_count": 8,
     "metadata": {},
     "output_type": "execute_result"
    }
   ],
   "source": [
    "sdf.chat(\"Return the top 5 countries by GDP\")"
   ]
  },
  {
   "cell_type": "code",
   "execution_count": 9,
   "metadata": {},
   "outputs": [
    {
     "name": "stdout",
     "output_type": "stream",
     "text": [
      "{'type': 'number', 'value': 3098370244608}\n"
     ]
    },
    {
     "data": {
      "text/plain": [
       "3098370244608"
      ]
     },
     "execution_count": 9,
     "metadata": {},
     "output_type": "execute_result"
    }
   ],
   "source": [
    "sdf.chat(\"What's the sum of the gdp of the 2 unhappiest countries?\")"
   ]
  },
  {
   "cell_type": "code",
   "execution_count": 11,
   "metadata": {},
   "outputs": [
    {
     "name": "stdout",
     "output_type": "stream",
     "text": [
      "dfs[0] = dfs[0].sort_values(by='happiness_index')\n",
      "unhappiest_countries = dfs[0].iloc[-2:]\n",
      "gdp_sum = unhappiest_countries['gdp'].sum()\n",
      "result = {'type': 'number', 'value': gdp_sum}\n",
      "print(result)\n"
     ]
    }
   ],
   "source": [
    "print(sdf.last_code_generated)"
   ]
  },
  {
   "cell_type": "code",
   "execution_count": 12,
   "metadata": {},
   "outputs": [
    {
     "name": "stdout",
     "output_type": "stream",
     "text": [
      "{'type': 'plot', 'value': '/Users/mikeqiu/code/python/web/exports/charts/temp_chart.png'}\n"
     ]
    },
    {
     "data": {
      "text/plain": [
       "'/Users/mikeqiu/code/python/web/exports/charts/temp_chart.png'"
      ]
     },
     "execution_count": 12,
     "metadata": {},
     "output_type": "execute_result"
    },
    {
     "data": {
      "image/png": "[encoded data removed]",
      "text/plain": [
       "<Figure size 1000x600 with 1 Axes>"
      ]
     },
     "metadata": {},
     "output_type": "display_data"
    }
   ],
   "source": [
    "sdf.chat(\"Plot a chart of the gdp by country\")"
   ]
  },
  {
   "cell_type": "code",
   "execution_count": 13,
   "metadata": {},
   "outputs": [
    {
     "name": "stdout",
     "output_type": "stream",
     "text": [
      "plt.figure(figsize=(10, 6))\n",
      "plt.bar(dfs[0]['country'], dfs[0]['gdp'])\n",
      "plt.xlabel('Country')\n",
      "plt.ylabel('GDP')\n",
      "plt.title('GDP by Country')\n",
      "plt.savefig('/Users/mikeqiu/code/python/web/exports/charts/temp_chart.png')\n",
      "result = {'type': 'plot', 'value': '/Users/mikeqiu/code/python/web/exports/charts/temp_chart.png'}\n",
      "print(result)\n"
     ]
    }
   ],
   "source": [
    "print(sdf.last_code_generated)"
   ]
  },
  {
   "cell_type": "markdown",
   "metadata": {},
   "source": [
    "# smart datalake"
   ]
  },
  {
   "cell_type": "code",
   "execution_count": 16,
   "metadata": {},
   "outputs": [],
   "source": [
    "from pandasai import SmartDatalake\n",
    "\n",
    "employees_df = pd.DataFrame(\n",
    "    {\n",
    "        \"EmployeeID\": [1, 2, 3, 4, 5],\n",
    "        \"Name\": [\"John\", \"Emma\", \"Liam\", \"Olivia\", \"William\"],\n",
    "        \"Department\": [\"HR\", \"Sales\", \"IT\", \"Marketing\", \"Finance\"],\n",
    "    }\n",
    ")\n",
    "\n",
    "salaries_df = pd.DataFrame(\n",
    "    {\n",
    "        \"EmployeeID\": [1, 2, 3, 4, 5],\n",
    "        \"Salary\": [5000, 6000, 4500, 7000, 5500],\n",
    "    }\n",
    ")\n",
    "\n",
    "lake = SmartDatalake([employees_df, salaries_df], config={'llm': model})"
   ]
  },
  {
   "cell_type": "code",
   "execution_count": 17,
   "metadata": {},
   "outputs": [
    {
     "name": "stdout",
     "output_type": "stream",
     "text": [
      "{'type': 'string', 'value': 'The highest salary is 7000 and it belongs to Olivia.'}\n"
     ]
    },
    {
     "data": {
      "text/plain": [
       "'The highest salary is 7000 and it belongs to Olivia.'"
      ]
     },
     "execution_count": 17,
     "metadata": {},
     "output_type": "execute_result"
    }
   ],
   "source": [
    "lake.chat(\"What's the name of the employee that gets paid the most?\")"
   ]
  },
  {
   "cell_type": "code",
   "execution_count": 18,
   "metadata": {},
   "outputs": [
    {
     "name": "stdout",
     "output_type": "stream",
     "text": [
      "highest_salary = dfs[1].max().Salary\n",
      "highest_paid_employee = dfs[1][dfs[1]['Salary'] == highest_salary].iloc[0]['EmployeeID']\n",
      "result_employees = dfs[0][dfs[0]['EmployeeID'] == int(highest_paid_employee)]\n",
      "result = {'type': 'string', 'value': f\"The highest salary is {highest_salary} and it belongs to {result_employees.iloc[1]['Name']}.\"}\n",
      "print(result)\n"
     ]
    }
   ],
   "source": [
    "print(lake.last_code_executed)"
   ]
  },
  {
   "cell_type": "code",
   "execution_count": 24,
   "metadata": {},
   "outputs": [
    {
     "name": "stderr",
     "output_type": "stream",
     "text": [
      "Traceback (most recent call last):\n",
      "  File \"/Users/mikeqiu/code/python/web/venv/lib/python3.11/site-packages/pandasai/pipelines/chat/code_execution.py\", line 85, in execute\n",
      "    result = self.execute_code(code_to_run, code_context)\n",
      "             ^^^^^^^^^^^^^^^^^^^^^^^^^^^^^^^^^^^^^^^^^^^^\n",
      "  File \"/Users/mikeqiu/code/python/web/venv/lib/python3.11/site-packages/pandasai/pipelines/chat/code_execution.py\", line 171, in execute_code\n",
      "    exec(code, environment)\n",
      "  File \"<string>\", line 2, in <module>\n",
      "  File \"/Users/mikeqiu/code/python/web/venv/lib/python3.11/site-packages/pandas/core/generic.py\", line 5915, in __setattr__\n",
      "    return object.__setattr__(self, name, value)\n",
      "           ^^^^^^^^^^^^^^^^^^^^^^^^^^^^^^^^^^^^^\n",
      "  File \"pandas/_libs/properties.pyx\", line 69, in pandas._libs.properties.AxisProperty.__set__\n",
      "  File \"/Users/mikeqiu/code/python/web/venv/lib/python3.11/site-packages/pandas/core/generic.py\", line 823, in _set_axis\n",
      "    self._mgr.set_axis(axis, labels)\n",
      "  File \"/Users/mikeqiu/code/python/web/venv/lib/python3.11/site-packages/pandas/core/internals/managers.py\", line 230, in set_axis\n",
      "    self._validate_set_axis(axis, new_labels)\n",
      "  File \"/Users/mikeqiu/code/python/web/venv/lib/python3.11/site-packages/pandas/core/internals/base.py\", line 70, in _validate_set_axis\n",
      "    raise ValueError(\n",
      "ValueError: Length mismatch: Expected axis has 5 elements, new values have 4 elements\n",
      "\n",
      "During handling of the above exception, another exception occurred:\n",
      "\n",
      "Traceback (most recent call last):\n",
      "  File \"/Users/mikeqiu/code/python/web/venv/lib/python3.11/site-packages/pandasai/pipelines/chat/generate_chat_pipeline.py\", line 307, in run\n",
      "    output = (self.code_generation_pipeline | self.code_execution_pipeline).run(\n",
      "             ^^^^^^^^^^^^^^^^^^^^^^^^^^^^^^^^^^^^^^^^^^^^^^^^^^^^^^^^^^^^^^^^^^^\n",
      "  File \"/Users/mikeqiu/code/python/web/venv/lib/python3.11/site-packages/pandasai/pipelines/pipeline.py\", line 137, in run\n",
      "    raise e\n",
      "  File \"/Users/mikeqiu/code/python/web/venv/lib/python3.11/site-packages/pandasai/pipelines/pipeline.py\", line 101, in run\n",
      "    step_output = logic.execute(\n",
      "                  ^^^^^^^^^^^^^^\n",
      "  File \"/Users/mikeqiu/code/python/web/venv/lib/python3.11/site-packages/pandasai/pipelines/chat/code_execution.py\", line 125, in execute\n",
      "    code_to_run = self._retry_run_code(\n",
      "                  ^^^^^^^^^^^^^^^^^^^^^\n",
      "  File \"/Users/mikeqiu/code/python/web/venv/lib/python3.11/site-packages/pandasai/pipelines/chat/code_execution.py\", line 346, in _retry_run_code\n",
      "    return self.on_retry(code, e)\n",
      "           ^^^^^^^^^^^^^^^^^^^^^^\n",
      "  File \"/Users/mikeqiu/code/python/web/venv/lib/python3.11/site-packages/pandasai/pipelines/chat/generate_chat_pipeline.py\", line 149, in on_code_retry\n",
      "    return self.code_exec_error_pipeline.run(correction_input)\n",
      "           ^^^^^^^^^^^^^^^^^^^^^^^^^^^^^^^^^^^^^^^^^^^^^^^^^^^\n",
      "  File \"/Users/mikeqiu/code/python/web/venv/lib/python3.11/site-packages/pandasai/pipelines/chat/error_correction_pipeline/error_correction_pipeline.py\", line 48, in run\n",
      "    return self.pipeline.run(input)\n",
      "           ^^^^^^^^^^^^^^^^^^^^^^^^\n",
      "  File \"/Users/mikeqiu/code/python/web/venv/lib/python3.11/site-packages/pandasai/pipelines/pipeline.py\", line 137, in run\n",
      "    raise e\n",
      "  File \"/Users/mikeqiu/code/python/web/venv/lib/python3.11/site-packages/pandasai/pipelines/pipeline.py\", line 101, in run\n",
      "    step_output = logic.execute(\n",
      "                  ^^^^^^^^^^^^^^\n",
      "  File \"/Users/mikeqiu/code/python/web/venv/lib/python3.11/site-packages/pandasai/pipelines/chat/code_generator.py\", line 33, in execute\n",
      "    code = pipeline_context.config.llm.generate_code(input, pipeline_context)\n",
      "           ^^^^^^^^^^^^^^^^^^^^^^^^^^^^^^^^^^^^^^^^^^^^^^^^^^^^^^^^^^^^^^^^^^\n",
      "  File \"/Users/mikeqiu/code/python/web/venv/lib/python3.11/site-packages/pandasai/llm/base.py\", line 202, in generate_code\n",
      "    return self._extract_code(response)\n",
      "           ^^^^^^^^^^^^^^^^^^^^^^^^^^^^\n",
      "  File \"/Users/mikeqiu/code/python/web/venv/lib/python3.11/site-packages/pandasai/llm/base.py\", line 127, in _extract_code\n",
      "    raise NoCodeFoundError(\"No code found in the response\")\n",
      "pandasai.exceptions.NoCodeFoundError: No code found in the response\n"
     ]
    },
    {
     "data": {
      "text/plain": [
       "'Unfortunately, I was not able to answer your question, because of the following error:\\n\\nNo code found in the response\\n'"
      ]
     },
     "execution_count": 24,
     "metadata": {},
     "output_type": "execute_result"
    }
   ],
   "source": [
    "lake.chat('what is the average salary in the IT department')"
   ]
  },
  {
   "cell_type": "code",
   "execution_count": null,
   "metadata": {},
   "outputs": [],
   "source": []
  }
 ],
 "metadata": {
  "kernelspec": {
   "display_name": "venv",
   "language": "python",
   "name": "python3"
  },
  "language_info": {
   "codemirror_mode": {
    "name": "ipython",
    "version": 3
   },
   "file_extension": ".py",
   "mimetype": "text/x-python",
   "name": "python",
   "nbconvert_exporter": "python",
   "pygments_lexer": "ipython3",
   "version": "3.11.5"
  }
 },
 "nbformat": 4,
 "nbformat_minor": 2
}
